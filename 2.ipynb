{
 "cells": [
  {
   "cell_type": "code",
   "execution_count": 17,
   "id": "551caf22-4896-4c84-b8b6-dd91336bf654",
   "metadata": {},
   "outputs": [],
   "source": [
    "import math"
   ]
  },
  {
   "cell_type": "code",
   "execution_count": 6,
   "id": "d7a42f46-5f67-42e6-b165-016f8dd1018b",
   "metadata": {},
   "outputs": [
    {
     "name": "stdout",
     "output_type": "stream",
     "text": [
      "Anh yêu em\n"
     ]
    }
   ],
   "source": [
    "print(\"Anh\",\"yêu\",\"em\",sep=\" \")"
   ]
  },
  {
   "cell_type": "code",
   "execution_count": 7,
   "id": "e8f40478-ea78-4198-9081-25a005160364",
   "metadata": {},
   "outputs": [
    {
     "data": {
      "text/plain": [
       "int"
      ]
     },
     "execution_count": 7,
     "metadata": {},
     "output_type": "execute_result"
    }
   ],
   "source": [
    "a=100\n",
    "type(a)"
   ]
  },
  {
   "cell_type": "code",
   "execution_count": 12,
   "id": "b231d3a1-c88b-4b17-8b4c-51b28b939cdb",
   "metadata": {},
   "outputs": [
    {
     "name": "stdout",
     "output_type": "stream",
     "text": [
      "100.13\n",
      "100.13\n"
     ]
    }
   ],
   "source": [
    "a=100.12929192\n",
    "print('%.2f' %a)\n",
    "print('{:.2f}'.format(a))"
   ]
  },
  {
   "cell_type": "code",
   "execution_count": 13,
   "id": "687f6bda-bd64-411c-b9f9-bd8d0f1c207c",
   "metadata": {},
   "outputs": [
    {
     "data": {
      "text/plain": [
       "bool"
      ]
     },
     "execution_count": 13,
     "metadata": {},
     "output_type": "execute_result"
    }
   ],
   "source": [
    "a= True\n",
    "type(a)"
   ]
  },
  {
   "cell_type": "code",
   "execution_count": 14,
   "id": "90edf8a7-aa26-4baa-a260-31e4cc4fcc1b",
   "metadata": {},
   "outputs": [
    {
     "name": "stdout",
     "output_type": "stream",
     "text": [
      "thpt me linh\n",
      "<class 'str'>\n"
     ]
    }
   ],
   "source": [
    "a='''thpt me linh'''\n",
    "print(a)\n",
    "print(type(a))"
   ]
  },
  {
   "cell_type": "code",
   "execution_count": 15,
   "id": "9f877346-d9a3-40e2-abb3-95a08925cd03",
   "metadata": {},
   "outputs": [
    {
     "data": {
      "text/plain": [
       "False"
      ]
     },
     "execution_count": 15,
     "metadata": {},
     "output_type": "execute_result"
    }
   ],
   "source": [
    "100!=100"
   ]
  },
  {
   "cell_type": "code",
   "execution_count": 20,
   "id": "146bc796-9217-4407-9096-5a81e26c5827",
   "metadata": {},
   "outputs": [
    {
     "name": "stdout",
     "output_type": "stream",
     "text": [
      "True\n"
     ]
    }
   ],
   "source": [
    "Nam=[1,2,3]\n",
    "Nam1=[1,2,3]\n",
    "print(Nam==Nam1)\n"
   ]
  },
  {
   "cell_type": "code",
   "execution_count": 2,
   "id": "09804ed6-4bd5-4535-8a84-2bbd721a225d",
   "metadata": {},
   "outputs": [
    {
     "name": "stdin",
     "output_type": "stream",
     "text": [
      " 2 3\n"
     ]
    },
    {
     "name": "stdout",
     "output_type": "stream",
     "text": [
      "2.86\n"
     ]
    }
   ],
   "source": [
    "line=input()\n",
    "a,b=map(float,line.split())\n",
    "conlai=a*b-3.14*a/2\n",
    "print(conlai)"
   ]
  },
  {
   "cell_type": "code",
   "execution_count": 5,
   "id": "3d2177ab-fbdf-4f9d-8c3d-908dc085a8b9",
   "metadata": {},
   "outputs": [
    {
     "name": "stdin",
     "output_type": "stream",
     "text": [
      " c\n"
     ]
    },
    {
     "name": "stdout",
     "output_type": "stream",
     "text": [
      "C\n"
     ]
    }
   ],
   "source": [
    "c=input()\n",
    "print(chr(ord(c)-32))"
   ]
  },
  {
   "cell_type": "code",
   "execution_count": null,
   "id": "d68e3dde-a3e7-428d-a628-14dfa9851f70",
   "metadata": {},
   "outputs": [],
   "source": []
  }
 ],
 "metadata": {
  "kernelspec": {
   "display_name": "Python [conda env:base] *",
   "language": "python",
   "name": "conda-base-py"
  },
  "language_info": {
   "codemirror_mode": {
    "name": "ipython",
    "version": 3
   },
   "file_extension": ".py",
   "mimetype": "text/x-python",
   "name": "python",
   "nbconvert_exporter": "python",
   "pygments_lexer": "ipython3",
   "version": "3.13.5"
  }
 },
 "nbformat": 4,
 "nbformat_minor": 5
}
