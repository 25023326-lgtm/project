#Bài 1
n=int(input("Nhập số nguyên:"))
print(2*n)



#Bài 2
a,b=map(float,input("Nhập lần lượt chiều rộng và chiều dài của khu đất hình chữ nhật:").split())
print(f"Diện tích còn để trồng cây xung quanh là {a*b-3.14*(a/2)**2:.2f}")



#Bài 3 #Viết hoa 65-90 Viết thường 97-122
#Cách 1
c=input("Nhập ký tự:")
if 65<=ord(c) and ord(c) <=90:
    print(chr(ord(c)+32))
if 97<= ord(c) and ord(c) <=122:
    print(chr(ord(c)-32))

    



#Bài 3 
#Cách 2
c=input("Nhập ký tự:")
if c.islower:
    print(c.upper())
elif c.isupper:
    print(c.lower())



#Bài 4
c=input("Nhập ký tự:")
if c.isalpha():
    print("{c} là ký tự alphabet")
else:
    print("{c} không là ký tự alphabet")



#Bài 5
c=input("Nhập chữ cái hoa:")
print(chr(ord(c)+31))


#Bài 6
a,b,c=map(float,input("Nhập 3 số bất kỳ:").split())
p=(a+b+c)/2
if a+b>c and a+c>b and b+c>a:
    print(f"Đây là các cạnh của tam giác có diện tích {(p*(p-a)*(p-b)*(p-c))**0.5:.1f}") 
else:
    print("Không phải ba cạnh của tam giác.")


#Bài 7
n=input("Nhập chuỗi ký tự thường độ dài>=20:")
if len(n)>=20:
   print(f"Chữ cái thứ 5:{n[4]}",f"Chữ cái thứ 9:{n[8]}",sep="\n")
else:
    print("Độ dài chuỗi ký tự không hợp lệ. Vui lòng nhập lại!")



#Bài 8
name=input("Tên chủ hộ:")
last=int(input("Chỉ số điện kế tháng trước:"))
now=int(input("Chỉ số điện kế tháng này:"))
print("Họ và tên: ",name)
use=now-last
#Bậc 1
if use>=0 and use<=50:
    print(f"Tiền phải trả là: {use*1984*1.08:.0f}")
#Bậc 2
elif use>=51 and use<=100:
    print(f"Tiền phải trả là: {use*2050*1.08:.0f}")
#Bậc 3
elif use>=101 and use<=200:
    print(f"Tiền phải trả là: {use*2380*1.08:.0f}")
#Bậc 4
elif use>=201 and use<=300:
    print(f"Tiền phải trả là: {use*2998*1.08:.0f}")
#Bậc 5
elif use>=301 and use<=400:
    print(f"Tiền phải trả là: {use*3350*1.08:.0f}")
#Bậc 6
elif use>=401:
    print(f"Tiền phải trả là: {use*3460*1.08:.0f}")
else:
    print("Lỗi")


#BTVN


#1
n=int(input("Nhập số nguyên:"))
if n%2==0:
  print(f"{n} là số chẵn")
else:
  print(f"{n} là số lẻ")


#2
n=int(input("Nhập số nguyên:"))
if n%10==5:
    print("True")
else:
    print("False")
      


#3
n=int(input("Nhập số nguyên:"))
if n%15==0:
    print("True")
else:
    print("False")
    


#4
n=int(input("Năm sinh:"))
if n>=18:
    print("Đủ 18 tuổi để đi bầu cử.")
else:
    print("Không đủ 18 tuổi để đi bầu cử.")


#5
a,b=map(float,input("Nhập 2 số bất kỳ:").split())
if a>b:
    print(a)
elif a<b:
    print(b)
else:
    print("Hai số bằng nhau.")



#6
n=input("Nhập một ký tự:")
if n.isdigit():
    print(f"{n} là chữ số.")
elif n.isalpha():
    print(f"{n} là chữ cái.")
else:
    print("Không là chữ cái không là chữ số")


#7
n=float(input("Nhập điểm:"))
if n>=8 and n<=10:
    print("Giỏi")
elif n>=6.5 and n<8:
    print("Khá")
elif n>=5 and n<6.5:
    print("Trung bình")
elif n>=0 and n<5:
    print("Yếu")
else:
    print("Error")



#8
year=int(input("Nhập năm:"))
if year%400==0 or (year%4==0 and year%100!=0):
    print(f"Năm {year} là năm nhuận")
else:
    print(f"Năm {year} không phải là năm nhuận")


#9
n=int(input("Nhập một số nguyên từ 0-9:"))
match n:
    case 0:
        print("Không")
    case 1:
        print("Một")
    case 2:
        print("Hai")
    case 3:
        print("Ba")
    case 4:
        print("Bốn")
    case 5:
        print("Năm")
    case 6:
        print("Sáu")
    case 7:
        print("Bảy")
    case 8:
        print("Tám")
    case 9:
        print("Chín")
    case _:
        print("Lỗi")


#10
n=float(input("Nhập điểm thi:"))
if n>=4:
    print("Qua môn")
else: 
    print("Học lại")
    


#11
n=int(input("Nhập năm sinh:"))
if 2025-n>=18:
    print("Đủ 18 tuổi")
else:
    print("Không đủ 18 tuổi")
