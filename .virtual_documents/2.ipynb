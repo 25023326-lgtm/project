import math


print("Anh","yêu","em",sep=" ")


a=100
type(a)


a=100.12929192
print('%.2f' %a)
print('{:.2f}'.format(a))


a= True
type(a)


a='''thpt me linh'''
print(a)
print(type(a))


100!=100


Nam=[1,2,3]
Nam1=[1,2,3]
print(Nam==Nam1)



line=input()
a,b=map(float,line.split())
conlai=a*b-3.14*a/2
print(conlai)


c=input()
print(chr(ord(c)-32))



